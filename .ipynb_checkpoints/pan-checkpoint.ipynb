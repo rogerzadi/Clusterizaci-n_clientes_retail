{
 "cells": [
  {
   "cell_type": "code",
   "execution_count": 1,
   "metadata": {},
   "outputs": [],
   "source": [
    "import pandas as pd\n",
    "cafeteria=pd.read_csv('cafeteria.csv')"
   ]
  },
  {
   "cell_type": "code",
   "execution_count": 2,
   "metadata": {},
   "outputs": [],
   "source": [
    "precio={'Hot chocolate':14, 'Coffee':10, 'Tea':11, 'Mineral water':15, 'Juice':18, 'Coke':13, 'Smoothies':30,\n",
    "'Christmas common':95, 'Gift voucher':100, \"Valentine's card\":50, 'Tshirt':70, 'Afternoon with the baker':200, 'Postcard':30, 'Siblings':220, 'Nomad bag':800,\n",
    "'Adjustment':130, 'Drinking chocolate spoons ':70, 'Coffee granules ':120,\"Ella's Kitchen Pouches\":200, 'My-5 Fruit Shoot':70, 'Kids biscuit':130,\n",
    "'Mighty Protein':300, 'Pick and Mix Bowls':50, 'Caramel bites':40, 'Bare Popcorn':40, 'Crisps':20, 'Cherry me Dried fruit':35, 'Raw bars':30,\n",
    "'Bread':40, 'Toast':20, 'Baguette':30, 'Focaccia':10, 'Scandinavian':20,'Muffin':30, 'Pastry':40, 'Medialuna':20, 'Scone':35,\n",
    "'Cookies':30, 'Tartine':40, 'Fudge':40, 'Victorian Sponge':30, 'Cake':100, 'Alfajores':40, 'Brownie':30, 'Bread Pudding':40, 'Bakewell':70, 'Raspberry shortbread sandwich':60,\n",
    "'Lemon and coconut':40, 'Crepes':40, 'Chocolates':30, 'Truffles':30, 'Panatone':40,'Jam':60, 'Dulce de Leche':30, 'Honey':40, 'Gingerbread syrup':60, 'Extra Salami or Feta':70,\n",
    "'Bacon ':60, 'Spread':40, 'Chimichurri Oil':60,'Eggs':90, 'Frittata':110, 'Granola':70, 'Muesli':70, 'Duck egg':110, 'Brioche and salami':170,\n",
    "'Soup':60, 'Sandwich':40, 'Chicken sand':40, 'Salad':70, 'Chicken Stew':60,'NONE':0}"
   ]
  },
  {
   "cell_type": "code",
   "execution_count": 4,
   "metadata": {},
   "outputs": [
    {
     "data": {
      "text/html": [
       "<div>\n",
       "<style scoped>\n",
       "    .dataframe tbody tr th:only-of-type {\n",
       "        vertical-align: middle;\n",
       "    }\n",
       "\n",
       "    .dataframe tbody tr th {\n",
       "        vertical-align: top;\n",
       "    }\n",
       "\n",
       "    .dataframe thead th {\n",
       "        text-align: right;\n",
       "    }\n",
       "</style>\n",
       "<table border=\"1\" class=\"dataframe\">\n",
       "  <thead>\n",
       "    <tr style=\"text-align: right;\">\n",
       "      <th></th>\n",
       "      <th>Date</th>\n",
       "      <th>Time</th>\n",
       "      <th>Transaction</th>\n",
       "      <th>Item</th>\n",
       "      <th>DateTime</th>\n",
       "    </tr>\n",
       "  </thead>\n",
       "  <tbody>\n",
       "    <tr>\n",
       "      <th>0</th>\n",
       "      <td>2016-10-30</td>\n",
       "      <td>09:58:11</td>\n",
       "      <td>1</td>\n",
       "      <td>Bread</td>\n",
       "      <td>2016-10-30 09:58:11</td>\n",
       "    </tr>\n",
       "    <tr>\n",
       "      <th>1</th>\n",
       "      <td>2016-10-30</td>\n",
       "      <td>10:05:34</td>\n",
       "      <td>2</td>\n",
       "      <td>Scandinavian</td>\n",
       "      <td>2016-10-30 10:05:34</td>\n",
       "    </tr>\n",
       "    <tr>\n",
       "      <th>2</th>\n",
       "      <td>2016-10-30</td>\n",
       "      <td>10:05:34</td>\n",
       "      <td>2</td>\n",
       "      <td>Scandinavian</td>\n",
       "      <td>2016-10-30 10:05:34</td>\n",
       "    </tr>\n",
       "    <tr>\n",
       "      <th>3</th>\n",
       "      <td>2016-10-30</td>\n",
       "      <td>10:07:57</td>\n",
       "      <td>3</td>\n",
       "      <td>Hot chocolate</td>\n",
       "      <td>2016-10-30 10:07:57</td>\n",
       "    </tr>\n",
       "    <tr>\n",
       "      <th>4</th>\n",
       "      <td>2016-10-30</td>\n",
       "      <td>10:07:57</td>\n",
       "      <td>3</td>\n",
       "      <td>Jam</td>\n",
       "      <td>2016-10-30 10:07:57</td>\n",
       "    </tr>\n",
       "  </tbody>\n",
       "</table>\n",
       "</div>"
      ],
      "text/plain": [
       "         Date      Time  Transaction           Item            DateTime\n",
       "0  2016-10-30  09:58:11            1          Bread 2016-10-30 09:58:11\n",
       "1  2016-10-30  10:05:34            2   Scandinavian 2016-10-30 10:05:34\n",
       "2  2016-10-30  10:05:34            2   Scandinavian 2016-10-30 10:05:34\n",
       "3  2016-10-30  10:07:57            3  Hot chocolate 2016-10-30 10:07:57\n",
       "4  2016-10-30  10:07:57            3            Jam 2016-10-30 10:07:57"
      ]
     },
     "execution_count": 4,
     "metadata": {},
     "output_type": "execute_result"
    }
   ],
   "source": [
    "cafeteria['DateTime']=pd.to_datetime(cafeteria.Date+' '+cafeteria.Time,\n",
    "                                      format='%Y-%m-%d %H:%M:%S')\n",
    "cafeteria.head()"
   ]
  },
  {
   "cell_type": "code",
   "execution_count": null,
   "metadata": {},
   "outputs": [],
   "source": [
    "gapminder_2002 = cafeteria[(cafeteria.Date==\"2016-10-30\")]\n",
    "len(gapminder_2002)"
   ]
  },
  {
   "cell_type": "code",
   "execution_count": 3,
   "metadata": {},
   "outputs": [
    {
     "data": {
      "text/plain": [
       "11"
      ]
     },
     "execution_count": 3,
     "metadata": {},
     "output_type": "execute_result"
    }
   ],
   "source": [
    "def pre (x):\n",
    "    return precio.get(x)\n",
    "def cat (x):\n",
    "    return cate.get(x)\n",
    "\n",
    "pre(\"Tea\")   "
   ]
  },
  {
   "cell_type": "code",
   "execution_count": 5,
   "metadata": {},
   "outputs": [],
   "source": [
    "cate = {'Hot chocolate':\"beverage\", 'Coffee':\"beverage\", 'Tea':\"beverage\", 'Mineral water':\"beverage\", 'Juice':\"beverage\", 'Coke':\"beverage\", 'Smoothies':\"beverage\",\n",
    "'NONE':\"other\", 'Christmas common':\"other\", 'Gift voucher':\"other\", \"Valentine's card\":\"other\", 'Tshirt':\"other\", 'Afternoon with the baker':\"other\", 'Postcard':\"other\", 'Siblings':\"other\", 'Nomad bag':\"other\", 'Adjustment':\"other\", 'Drinking chocolate spoons ':\"other\", 'Coffee granules ':\"other\",\n",
    "\"Ella's Kitchen Pouches\":\"kids\", 'My-5 Fruit Shoot':\"kids\", 'Kids biscuit':\"kids\",\n",
    "'Mighty Protein':\"snacks\", 'Pick and Mix Bowls':\"snacks\", 'Caramel bites':\"snacks\", 'Bare Popcorn':\"snacks\", 'Crisps':\"snacks\", 'Cherry me Dried fruit':\"snacks\", 'Raw bars':\"snacks\",\n",
    "'Bread':\"bread\", 'Toast':\"bread\", 'Baguette':\"bread\", 'Focaccia':\"bread\", 'Scandinavian':\"bread\",\n",
    "'Muffin':\"breakfast_pastry\", 'Pastry':\"breakfast_pastry\", 'Medialuna':\"breakfast_pastry\", 'Scone':\"breakfast_pastry\",\n",
    "'Cookies':\"dessert\", 'Tartine':\"dessert\", 'Fudge':\"dessert\", 'Victorian Sponge':\"dessert\", 'Cake':\"dessert\", 'Alfajores':\"dessert\", 'Brownie':\"dessert\", 'Bread Pudding':\"dessert\", 'Bakewell':\"dessert\", 'Raspberry shortbread sandwich':\"dessert\", 'Lemon and coconut':\"dessert\", 'Crepes':\"dessert\", 'Chocolates':\"dessert\", 'Truffles':\"dessert\", 'Panatone':\"dessert\",\n",
    "'Jam':\"condiments\", 'Dulce de Leche':\"condiments\", 'Honey' : 'condiments', 'Gingerbread syrup':\"condiments\", 'Extra Salami or Feta':\"condiments\", 'Bacon':\"condiments\", 'Spread':\"condiments\", 'Chimichurri Oil':\"condiments\",\n",
    "'Eggs':\"breakfast\", 'Frittata':\"breakfast\", 'Granola':\"breakfast\", 'Muesli':\"breakfast\", 'Duck egg':\"breakfast\", 'Brioche and salami':\"breakfast\",\n",
    "'Soup':\"lunch\", 'Sandwich':\"lunch\", 'Chicken sand':\"lunch\", 'Salad':\"lunch\", 'Chicken Stew':\"lunch\"}"
   ]
  },
  {
   "cell_type": "code",
   "execution_count": 6,
   "metadata": {},
   "outputs": [
    {
     "data": {
      "text/plain": [
       "'condiments'"
      ]
     },
     "execution_count": 6,
     "metadata": {},
     "output_type": "execute_result"
    }
   ],
   "source": [
    "\n",
    "\n",
    "cafeteria[\"price\"]=cafeteria[\"Item\"].apply(pre)\n",
    "len(cafeteria)\n",
    "cafeteria[\"category\"]=cafeteria[\"Item\"].apply(cat)\n",
    "cafeteria.Transaction\n",
    "cat(\"Jam\")"
   ]
  },
  {
   "cell_type": "code",
   "execution_count": null,
   "metadata": {},
   "outputs": [],
   "source": [
    "cafeteria=cafeteria.dropna()\n",
    "muestra=cafeteria[(cafeteria['Date'] > '2017-01-03') & (cafeteria['Date'] < '2017-01-10')]\n",
    "muestra\n",
    "print(len(muestra))\n",
    "print(muestra.head())\n",
    "muestra6=muestra[['DateTime', 'category', 'Item',\"price\",'Transaction']] \n",
    "muestra6=muestra6[muestra6[\"price\"]!=0]\n",
    "muestra6.head()\n",
    "len(muestra6)\n",
    "muestra6.to_csv('muestra6dias.csv', index = False)"
   ]
  },
  {
   "cell_type": "code",
   "execution_count": null,
   "metadata": {},
   "outputs": [],
   "source": [
    "cafeteria.Date.max()"
   ]
  },
  {
   "cell_type": "code",
   "execution_count": 19,
   "metadata": {},
   "outputs": [
    {
     "data": {
      "text/html": [
       "<div>\n",
       "<style scoped>\n",
       "    .dataframe tbody tr th:only-of-type {\n",
       "        vertical-align: middle;\n",
       "    }\n",
       "\n",
       "    .dataframe tbody tr th {\n",
       "        vertical-align: top;\n",
       "    }\n",
       "\n",
       "    .dataframe thead th {\n",
       "        text-align: right;\n",
       "    }\n",
       "</style>\n",
       "<table border=\"1\" class=\"dataframe\">\n",
       "  <thead>\n",
       "    <tr style=\"text-align: right;\">\n",
       "      <th></th>\n",
       "      <th>0</th>\n",
       "    </tr>\n",
       "  </thead>\n",
       "  <tbody>\n",
       "    <tr>\n",
       "      <th>0</th>\n",
       "      <td>Bread</td>\n",
       "    </tr>\n",
       "    <tr>\n",
       "      <th>1</th>\n",
       "      <td>Scandinavian</td>\n",
       "    </tr>\n",
       "    <tr>\n",
       "      <th>2</th>\n",
       "      <td>Hot chocolate</td>\n",
       "    </tr>\n",
       "    <tr>\n",
       "      <th>3</th>\n",
       "      <td>Jam</td>\n",
       "    </tr>\n",
       "    <tr>\n",
       "      <th>4</th>\n",
       "      <td>Cookies</td>\n",
       "    </tr>\n",
       "  </tbody>\n",
       "</table>\n",
       "</div>"
      ],
      "text/plain": [
       "               0\n",
       "0          Bread\n",
       "1   Scandinavian\n",
       "2  Hot chocolate\n",
       "3            Jam\n",
       "4        Cookies"
      ]
     },
     "execution_count": 19,
     "metadata": {},
     "output_type": "execute_result"
    }
   ],
   "source": [
    "cafeteria.head()\n",
    "listauni=pd.DataFrame(cafeteria.Item.unique())\n",
    "listauni.head()\n"
   ]
  },
  {
   "cell_type": "code",
   "execution_count": 34,
   "metadata": {},
   "outputs": [],
   "source": [
    "inventario = listauni.rename(columns={0:'Item'})\n",
    "inventario[\"category\"]=inventario[\"Item\"].apply(cat)\n",
    "inventario[\"price\"]=inventario[\"Item\"].apply(pre)\n",
    "\n",
    "inventario=inventario.sort_values(\"category\")\n",
    "\n",
    "inventario=inventario.dropna()\n",
    "len(inventario)\n",
    "inventario[\"id\"]=range(0,71)\n",
    "inv = inventario[['id', 'category', 'Item',\"price\"]] \n",
    "inv\n",
    "inv.reset_index(drop=True,inplace=True)\n",
    "inv.to_csv('inventario.csv', index = False)"
   ]
  },
  {
   "cell_type": "code",
   "execution_count": null,
   "metadata": {},
   "outputs": [],
   "source": [
    "sub.to_csv('cafeprice.csv', index = False)"
   ]
  },
  {
   "cell_type": "code",
   "execution_count": null,
   "metadata": {},
   "outputs": [],
   "source": []
  }
 ],
 "metadata": {
  "kernelspec": {
   "display_name": "Python 3",
   "language": "python",
   "name": "python3"
  },
  "language_info": {
   "codemirror_mode": {
    "name": "ipython",
    "version": 3
   },
   "file_extension": ".py",
   "mimetype": "text/x-python",
   "name": "python",
   "nbconvert_exporter": "python",
   "pygments_lexer": "ipython3",
   "version": "3.7.3"
  }
 },
 "nbformat": 4,
 "nbformat_minor": 2
}
